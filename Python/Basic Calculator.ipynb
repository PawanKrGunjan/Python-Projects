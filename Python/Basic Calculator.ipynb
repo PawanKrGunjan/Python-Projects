{
 "cells": [
  {
   "cell_type": "code",
   "execution_count": 1,
   "id": "ce24a8f7",
   "metadata": {},
   "outputs": [],
   "source": [
    "def BasicCalculator():\n",
    "    print(\"Select from 1, 2, 3, 4, 5, 0\")\n",
    "    print(\" 1 for Addition\")\n",
    "    print(\" 2 for Subtraction\")\n",
    "    print(\" 3 for Multiplication\")\n",
    "    print(\" 4 for Division\")\n",
    "    print(\" 5 for power\")\n",
    "    print(\" 0 for exit\")\n",
    "    \n",
    "    Input = int(input())\n",
    "    if Input != 0:\n",
    "        print('Enter the first number:')\n",
    "        N1 = float(input())\n",
    "        print('Enter the Second number:')\n",
    "        N2 = float(input())\n",
    "        \n",
    "        if Input == 1:\n",
    "            return f\"{N1} + {N2} = {N1 + N2}\"\n",
    "        elif Input == 2:\n",
    "            return f\"{N1} - {N2} = {N1 - N2}\"\n",
    "        elif Input == 3:\n",
    "            return f\"{N1} * {N2} = {N1 * N2}\"\n",
    "        elif Input == 4:\n",
    "            return f\"{N1} / {N2} = {N1 / N2}\"\n",
    "        elif Input == 5:\n",
    "            return f\"{N1} ^ {N2} = {N1 ** N2}\"\n",
    "        "
   ]
  },
  {
   "cell_type": "code",
   "execution_count": 2,
   "id": "740f95d5",
   "metadata": {},
   "outputs": [
    {
     "name": "stdout",
     "output_type": "stream",
     "text": [
      "Select from 1, 2, 3, 4, 5, 0\n",
      " 1 for Addition\n",
      " 2 for Subtraction\n",
      " 3 for Multiplication\n",
      " 4 for Division\n",
      " 5 for power\n",
      " 0 for exit\n",
      "3\n",
      "Enter the first number:\n",
      "25\n",
      "Enter the Second number:\n",
      "45\n"
     ]
    },
    {
     "data": {
      "text/plain": [
       "'25.0 * 45.0 = 1125.0'"
      ]
     },
     "execution_count": 2,
     "metadata": {},
     "output_type": "execute_result"
    }
   ],
   "source": [
    "BasicCalculator()"
   ]
  },
  {
   "cell_type": "code",
   "execution_count": 4,
   "id": "11f34b1c",
   "metadata": {},
   "outputs": [
    {
     "name": "stdout",
     "output_type": "stream",
     "text": [
      "Select from 1, 2, 3, 4, 5, 0\n",
      " 1 for Addition\n",
      " 2 for Subtraction\n",
      " 3 for Multiplication\n",
      " 4 for Division\n",
      " 5 for power\n",
      " 0 for exit\n",
      "3\n",
      "Enter the first number:\n",
      "45\n",
      "Enter the Second number:\n",
      "23\n"
     ]
    },
    {
     "data": {
      "text/plain": [
       "'45.0 * 23.0 = 1035.0'"
      ]
     },
     "execution_count": 4,
     "metadata": {},
     "output_type": "execute_result"
    }
   ],
   "source": [
    "BasicCalculator()"
   ]
  },
  {
   "cell_type": "code",
   "execution_count": 5,
   "id": "407e1ee5",
   "metadata": {},
   "outputs": [
    {
     "name": "stdout",
     "output_type": "stream",
     "text": [
      "Select from 1, 2, 3, 4, 5, 0\n",
      " 1 for Addition\n",
      " 2 for Subtraction\n",
      " 3 for Multiplication\n",
      " 4 for Division\n",
      " 5 for power\n",
      " 0 for exit\n",
      "5\n",
      "Enter the first number:\n",
      "35\n",
      "Enter the Second number:\n",
      "7\n"
     ]
    },
    {
     "data": {
      "text/plain": [
       "'35.0 ^ 7.0 = 64339296875.0'"
      ]
     },
     "execution_count": 5,
     "metadata": {},
     "output_type": "execute_result"
    }
   ],
   "source": [
    "BasicCalculator()"
   ]
  },
  {
   "cell_type": "code",
   "execution_count": null,
   "id": "499706b4",
   "metadata": {},
   "outputs": [],
   "source": []
  }
 ],
 "metadata": {
  "kernelspec": {
   "display_name": "Python 3 (ipykernel)",
   "language": "python",
   "name": "python3"
  },
  "language_info": {
   "codemirror_mode": {
    "name": "ipython",
    "version": 3
   },
   "file_extension": ".py",
   "mimetype": "text/x-python",
   "name": "python",
   "nbconvert_exporter": "python",
   "pygments_lexer": "ipython3",
   "version": "3.10.4"
  }
 },
 "nbformat": 4,
 "nbformat_minor": 5
}
