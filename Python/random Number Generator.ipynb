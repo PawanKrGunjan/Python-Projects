{
 "cells": [
  {
   "cell_type": "markdown",
   "id": "da13b66b",
   "metadata": {},
   "source": [
    "ॐ श्री गणेशाय नमः"
   ]
  },
  {
   "cell_type": "code",
   "execution_count": 1,
   "id": "943c6629",
   "metadata": {},
   "outputs": [
    {
     "name": "stdout",
     "output_type": "stream",
     "text": [
      "0.4786808490753174\n"
     ]
    }
   ],
   "source": [
    "from time import time\n",
    "import math\n",
    "def time_random():\n",
    "    return time() - float(str(time()).split('.')[0])\n",
    "\n",
    "def gen_random_range(min, max):\n",
    "    return int(time_random() * (max - min) + min)"
   ]
  },
  {
   "cell_type": "code",
   "execution_count": 50,
   "id": "bf43dfb6",
   "metadata": {},
   "outputs": [
    {
     "name": "stdout",
     "output_type": "stream",
     "text": [
      "Enter the first number:23\n",
      "Enter the second number:70\n",
      "Random number required: 13\n",
      "x :[0, 1, 2, 3, 4, 5, 6, 7, 8, 9, 10, 11, 12] \n",
      "y:[54, 28, 50, 24, 44, 66, 43, 63, 38, 59, 33, 53, 28]\n"
     ]
    }
   ],
   "source": [
    "min = int(input(\"Enter the first number:\"))\n",
    "max= int(input(\"Enter the second number:\"))\n",
    "N = int(input(\"Random number required: \"))\n",
    "import math\n",
    "x=[]\n",
    "y=[]\n",
    "for i in range(N):\n",
    "    for j in range(N**5):\n",
    "        time_random()\n",
    "    x.append(i)\n",
    "    y.append(gen_random_range(min,max))\n",
    "print(f\"x :{x} \\ny:{y}\")"
   ]
  },
  {
   "cell_type": "markdown",
   "id": "58de6fc0",
   "metadata": {},
   "source": [
    "### Question-1"
   ]
  },
  {
   "cell_type": "code",
   "execution_count": 53,
   "id": "b6c71784",
   "metadata": {},
   "outputs": [
    {
     "name": "stdout",
     "output_type": "stream",
     "text": [
      "x :[0, 1, 2, 3, 4, 5, 6, 7, 8, 9, 10, 11, 12] \n",
      "y:[56, 30, 51, 25, 45, 65, 39, 63, 37, 59, 34, 55, 28]\n"
     ]
    }
   ],
   "source": [
    "def randomNumber(Min, Max, N):\n",
    "    def time_random():\n",
    "        return time() - float(str(time()).split('.')[0])\n",
    "\n",
    "    def gen_random_range(min, max):\n",
    "        return int(time_random() * (max - min) + min)\n",
    "    x=[]\n",
    "    y=[]\n",
    "    for i in range(N):\n",
    "        for j in range(N**5):\n",
    "            time_random()\n",
    "        x.append(i)\n",
    "        y.append(gen_random_range(min,max))\n",
    "    return f\"x :{x} \\ny:{y}\"\n",
    "print(randomNumber(min, max, N))"
   ]
  },
  {
   "cell_type": "markdown",
   "id": "b04e0fec",
   "metadata": {},
   "source": [
    "### Question-2"
   ]
  },
  {
   "cell_type": "code",
   "execution_count": 51,
   "id": "1591934e",
   "metadata": {},
   "outputs": [
    {
     "data": {
      "text/plain": [
       "<matplotlib.collections.PathCollection at 0x229d1e7db10>"
      ]
     },
     "execution_count": 51,
     "metadata": {},
     "output_type": "execute_result"
    },
    {
     "data": {
      "image/png": "[encoded data removed]",
      "text/plain": [
       "<Figure size 432x288 with 1 Axes>"
      ]
     },
     "metadata": {
      "needs_background": "light"
     },
     "output_type": "display_data"
    }
   ],
   "source": [
    "import matplotlib.pyplot as plt\n",
    "plt.scatter(x, y)"
   ]
  },
  {
   "cell_type": "markdown",
   "id": "d6c02d82",
   "metadata": {},
   "source": [
    "### Question-3"
   ]
  },
  {
   "cell_type": "code",
   "execution_count": 49,
   "id": "8bd9b428",
   "metadata": {},
   "outputs": [
    {
     "name": "stdout",
     "output_type": "stream",
     "text": [
      "3.14\n",
      "3.14\n",
      "3.14\n",
      "3.14\n",
      "3.14\n",
      "3.14\n",
      "3.14\n",
      "3.14\n",
      "3.14\n",
      "3.14\n"
     ]
    }
   ],
   "source": [
    "import math\n",
    "from math import acos\n",
    "for i in range(10):\n",
    "    for j in range(int(math.exp(10))):\n",
    "        time_random()\n",
    "    pi = round(2 * acos(0.0), 2)\n",
    "    print(pi)  "
   ]
  },
  {
   "cell_type": "markdown",
   "id": "fe6d219d",
   "metadata": {},
   "source": [
    "#### Dataframe"
   ]
  },
  {
   "cell_type": "code",
   "execution_count": 54,
   "id": "708a9017",
   "metadata": {},
   "outputs": [],
   "source": [
    "import pandas as pd"
   ]
  },
  {
   "cell_type": "code",
   "execution_count": 55,
   "id": "947e54da",
   "metadata": {},
   "outputs": [],
   "source": [
    "text = pd.read_csv(\"text_data.csv\", encoding= 'unicode_escape', index_col = [0])"
   ]
  },
  {
   "cell_type": "code",
   "execution_count": 56,
   "id": "7a1b84f8",
   "metadata": {},
   "outputs": [
    {
     "data": {
      "text/html": [
       "<div>\n",
       "<style scoped>\n",
       "    .dataframe tbody tr th:only-of-type {\n",
       "        vertical-align: middle;\n",
       "    }\n",
       "\n",
       "    .dataframe tbody tr th {\n",
       "        vertical-align: top;\n",
       "    }\n",
       "\n",
       "    .dataframe thead th {\n",
       "        text-align: right;\n",
       "    }\n",
       "</style>\n",
       "<table border=\"1\" class=\"dataframe\">\n",
       "  <thead>\n",
       "    <tr style=\"text-align: right;\">\n",
       "      <th></th>\n",
       "      <th>Message_body</th>\n",
       "      <th>Label</th>\n",
       "    </tr>\n",
       "    <tr>\n",
       "      <th>S.No.</th>\n",
       "      <th></th>\n",
       "      <th></th>\n",
       "    </tr>\n",
       "  </thead>\n",
       "  <tbody>\n",
       "    <tr>\n",
       "      <th>1</th>\n",
       "      <td>UpgrdCentre Orange customer, you may now claim...</td>\n",
       "      <td>Spam</td>\n",
       "    </tr>\n",
       "    <tr>\n",
       "      <th>2</th>\n",
       "      <td>Loan for any purpose £500 - £75,000. Homeowner...</td>\n",
       "      <td>Spam</td>\n",
       "    </tr>\n",
       "    <tr>\n",
       "      <th>3</th>\n",
       "      <td>Congrats! Nokia 3650 video camera phone is you...</td>\n",
       "      <td>Spam</td>\n",
       "    </tr>\n",
       "    <tr>\n",
       "      <th>4</th>\n",
       "      <td>URGENT! Your Mobile number has been awarded wi...</td>\n",
       "      <td>Spam</td>\n",
       "    </tr>\n",
       "    <tr>\n",
       "      <th>5</th>\n",
       "      <td>Someone has contacted our dating service and e...</td>\n",
       "      <td>Spam</td>\n",
       "    </tr>\n",
       "    <tr>\n",
       "      <th>...</th>\n",
       "      <td>...</td>\n",
       "      <td>...</td>\n",
       "    </tr>\n",
       "    <tr>\n",
       "      <th>121</th>\n",
       "      <td>7 wonders in My WORLD 7th You 6th Ur style 5th...</td>\n",
       "      <td>Non-Spam</td>\n",
       "    </tr>\n",
       "    <tr>\n",
       "      <th>122</th>\n",
       "      <td>Try to do something dear. You read something f...</td>\n",
       "      <td>Non-Spam</td>\n",
       "    </tr>\n",
       "    <tr>\n",
       "      <th>123</th>\n",
       "      <td>Sun ah... Thk mayb can if dun have anythin on....</td>\n",
       "      <td>Non-Spam</td>\n",
       "    </tr>\n",
       "    <tr>\n",
       "      <th>124</th>\n",
       "      <td>SYMPTOMS when U are in love: \"1.U like listeni...</td>\n",
       "      <td>Non-Spam</td>\n",
       "    </tr>\n",
       "    <tr>\n",
       "      <th>125</th>\n",
       "      <td>Great. Have a safe trip. Dont panic surrender ...</td>\n",
       "      <td>Non-Spam</td>\n",
       "    </tr>\n",
       "  </tbody>\n",
       "</table>\n",
       "<p>125 rows × 2 columns</p>\n",
       "</div>"
      ],
      "text/plain": [
       "                                            Message_body     Label\n",
       "S.No.                                                             \n",
       "1      UpgrdCentre Orange customer, you may now claim...      Spam\n",
       "2      Loan for any purpose £500 - £75,000. Homeowner...      Spam\n",
       "3      Congrats! Nokia 3650 video camera phone is you...      Spam\n",
       "4      URGENT! Your Mobile number has been awarded wi...      Spam\n",
       "5      Someone has contacted our dating service and e...      Spam\n",
       "...                                                  ...       ...\n",
       "121    7 wonders in My WORLD 7th You 6th Ur style 5th...  Non-Spam\n",
       "122    Try to do something dear. You read something f...  Non-Spam\n",
       "123    Sun ah... Thk mayb can if dun have anythin on....  Non-Spam\n",
       "124    SYMPTOMS when U are in love: \"1.U like listeni...  Non-Spam\n",
       "125    Great. Have a safe trip. Dont panic surrender ...  Non-Spam\n",
       "\n",
       "[125 rows x 2 columns]"
      ]
     },
     "execution_count": 56,
     "metadata": {},
     "output_type": "execute_result"
    }
   ],
   "source": [
    "text"
   ]
  }
 ],
 "metadata": {
  "kernelspec": {
   "display_name": "Python 3 (ipykernel)",
   "language": "python",
   "name": "python3"
  },
  "language_info": {
   "codemirror_mode": {
    "name": "ipython",
    "version": 3
   },
   "file_extension": ".py",
   "mimetype": "text/x-python",
   "name": "python",
   "nbconvert_exporter": "python",
   "pygments_lexer": "ipython3",
   "version": "3.10.4"
  }
 },
 "nbformat": 4,
 "nbformat_minor": 5
}
