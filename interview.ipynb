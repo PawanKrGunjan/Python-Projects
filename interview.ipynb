{
 "cells": [
  {
   "cell_type": "markdown",
   "id": "648df22f",
   "metadata": {},
   "source": [
    "ॐ श्री गणेशाय नमः"
   ]
  },
  {
   "cell_type": "code",
   "execution_count": 1,
   "id": "b6cd697b",
   "metadata": {},
   "outputs": [],
   "source": [
    "input1 = 5\n",
    "input2 = [-2, 3, -1, -4, -2]\n",
    "input2 = [-1, 2, 3, 4, -5]"
   ]
  },
  {
   "cell_type": "code",
   "execution_count": 2,
   "id": "b9ab7dc5",
   "metadata": {},
   "outputs": [],
   "source": [
    "b=input2.sort(reverse=True)\n",
    "b"
   ]
  },
  {
   "cell_type": "markdown",
   "id": "08e5c213",
   "metadata": {},
   "source": [
    "## Question-1"
   ]
  },
  {
   "cell_type": "markdown",
   "id": "216a8792",
   "metadata": {},
   "source": [
    "**input1:** Length of the array\n",
    "\n",
    "**input2:** An array of positive integers\n",
    "\n",
    "**Output Specification:**\n",
    "Return the second largest number or -1 accordingly."
   ]
  },
  {
   "cell_type": "code",
   "execution_count": 3,
   "id": "b6a4982c",
   "metadata": {},
   "outputs": [
    {
     "name": "stdout",
     "output_type": "stream",
     "text": [
      "3\n",
      "{2,2,2}\n"
     ]
    }
   ],
   "source": [
    "input1 = int(input())\n",
    "input2 = [int(i) for i in input().strip('{}').split(',')]"
   ]
  },
  {
   "cell_type": "code",
   "execution_count": 4,
   "id": "36864b6f",
   "metadata": {},
   "outputs": [],
   "source": [
    "class UserMainCode(object):\n",
    "    def __init__(self, n, m):\n",
    "        self.i1 = n\n",
    "        self.i2 = m\n",
    "\n",
    "    @classmethod\n",
    "    def secondLargest(self, n, m):\n",
    "        m.sort()\n",
    "        for i in range(1,n):\n",
    "            if m[n - i] != m[n - i - 1]:\n",
    "                r = m[n - i - 1]\n",
    "                break\n",
    "            elif n - i == 1:\n",
    "                r =-1\n",
    "                break\n",
    "            else:\n",
    "                pass\n",
    "        return r"
   ]
  },
  {
   "cell_type": "code",
   "execution_count": 5,
   "id": "cf6439ab",
   "metadata": {},
   "outputs": [
    {
     "name": "stdout",
     "output_type": "stream",
     "text": [
      "-1\n"
     ]
    }
   ],
   "source": [
    "#input1 = int(input(\"Enter:\"))\n",
    "#input2 = [int(n) for n in input(\"Enter2:\").strip('{}').split(',')]\n",
    "print(UserMainCode.secondLargest(input1, input2))"
   ]
  },
  {
   "cell_type": "markdown",
   "id": "59663584",
   "metadata": {},
   "source": [
    "### Question- 2"
   ]
  },
  {
   "cell_type": "markdown",
   "id": "b3af6fd3",
   "metadata": {},
   "source": [
    "### Maximum Contiguous Sequences\n",
    "**Given an array of N integers, determine all contiguous subsequences of positive numbers. Then write a function to find the sum of elements each sub-sequence and output the maximum sum value.**\n",
    "#### Input Specifiction:\n",
    "**input1**: An integer N denoting length of array\n",
    "**input2**: An integer array of length N(-10000<=A[i]<=10000)\n",
    "#### Output Specification\n",
    "**Return the maximum sum of contiguous sub-sequence of numbers**"
   ]
  },
  {
   "cell_type": "code",
   "execution_count": 13,
   "id": "d65bf3e3",
   "metadata": {},
   "outputs": [
    {
     "name": "stdout",
     "output_type": "stream",
     "text": [
      "5\n",
      "{1,2,-3,4,-5}\n"
     ]
    }
   ],
   "source": [
    "input1 = int(input())\n",
    "input2 = [int(i) for i in input().strip('{}').split(',')]"
   ]
  },
  {
   "cell_type": "code",
   "execution_count": 15,
   "id": "4a0b1cd0",
   "metadata": {},
   "outputs": [],
   "source": [
    "class UserMainCode(object):\n",
    "    def __init__(self, n, a):\n",
    "        self.i1=n\n",
    "        self.i2=a\n",
    "    @classmethod\n",
    "    def FindContiguousSeq(cls, n, a):\n",
    "        sum=[a[0]]\n",
    "        for i in range(1, n):\n",
    "            if sum[i-1]+a[i]>a[i]:\n",
    "                sum.append(sum[i-1]+a[i])\n",
    "            else:\n",
    "                sum.append(a[i])\n",
    "        return max(sum)"
   ]
  },
  {
   "cell_type": "code",
   "execution_count": 16,
   "id": "1c552a9b",
   "metadata": {},
   "outputs": [
    {
     "data": {
      "text/plain": [
       "4"
      ]
     },
     "execution_count": 16,
     "metadata": {},
     "output_type": "execute_result"
    }
   ],
   "source": [
    "UserMainCode.FindContiguousSeq(input1,input2)"
   ]
  },
  {
   "cell_type": "markdown",
   "id": "43fe2170",
   "metadata": {},
   "source": [
    "## Section:3 Question 1"
   ]
  },
  {
   "cell_type": "markdown",
   "id": "23f17013",
   "metadata": {},
   "source": [
    "### The Card Game\n",
    "One day, Fred and his N friends were playing a card game in which each player throws a card with a number written on it. The cards are such that a number X is written on front of the card, and the negative of that number is written on the back side of the card. This game has the following rules:-\n",
    "\n",
    "Each of N players is asked to throw a card. After all the N cards are thrown,  Fred has to flip one or more cards in consecutive order, only once. \n",
    "Your task is to help Fred flip the cards in such a way that the sum of the numbers, on front face of the cards, is the maximum.\n",
    "\n",
    "### Input Specifications\n",
    "**input1:** An integer N denoting the number of cards(1<=N<=500)\n",
    "**input2:** An integer array containing N integers, where the ith integer denotes the value on the front of the card(-1000<=input2[i]<=1000)\n",
    "### Output Specifications\n",
    "Return the maximum sum of the numbers, on the front of the cards"
   ]
  },
  {
   "cell_type": "code",
   "execution_count": 9,
   "id": "b50fa64b",
   "metadata": {},
   "outputs": [
    {
     "name": "stdout",
     "output_type": "stream",
     "text": [
      "5\n",
      "{-1,2,3,4,-5}\n"
     ]
    }
   ],
   "source": [
    "input1 = int(input())\n",
    "input2 = [int(i) for i in input().strip('{}').split(',')]"
   ]
  },
  {
   "cell_type": "code",
   "execution_count": 11,
   "id": "360562dd",
   "metadata": {},
   "outputs": [
    {
     "name": "stdout",
     "output_type": "stream",
     "text": [
      "13\n"
     ]
    }
   ],
   "source": [
    "class UserMainCode(object):\n",
    "\n",
    "    def __init__(self, n, m):\n",
    "        self.i1 = n\n",
    "        self.i2 = m\n",
    "\n",
    "    @classmethod\n",
    "    def Cards(cls, n, m):\n",
    "        s = []\n",
    "        for i in range(n):\n",
    "            o = []\n",
    "            for j in range(n):\n",
    "                if i > j:\n",
    "                    o.append((m[j]))\n",
    "                else:\n",
    "                    o.append(-(m[j]))\n",
    "            #print(o)\n",
    "            s.append(sum(o))\n",
    "        return max(s)\n",
    "\n",
    "\n",
    "#input1 = int(input())\n",
    "#input2 = [int(i) for i in input().strip('{}').split(',')]\n",
    "print(UserMainCode.Cards(input1, input2))"
   ]
  },
  {
   "cell_type": "code",
   "execution_count": null,
   "id": "3bf4e117",
   "metadata": {},
   "outputs": [],
   "source": []
  }
 ],
 "metadata": {
  "kernelspec": {
   "display_name": "Python 3 (ipykernel)",
   "language": "python",
   "name": "python3"
  },
  "language_info": {
   "codemirror_mode": {
    "name": "ipython",
    "version": 3
   },
   "file_extension": ".py",
   "mimetype": "text/x-python",
   "name": "python",
   "nbconvert_exporter": "python",
   "pygments_lexer": "ipython3",
   "version": "3.10.4"
  }
 },
 "nbformat": 4,
 "nbformat_minor": 5
}
